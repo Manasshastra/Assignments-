{
 "cells": [
  {
   "cell_type": "code",
   "execution_count": 35,
   "id": "d2afe768",
   "metadata": {},
   "outputs": [
    {
     "name": "stdout",
     "output_type": "stream",
     "text": [
      "<mysql.connector.connection_cext.CMySQLConnection object at 0x000001ECEA61C610>\n"
     ]
    }
   ],
   "source": [
    "#ESTABLISHING CONNECTION WITH SQL SERVER\n",
    "import mysql.connector\n",
    "\n",
    "\n",
    "mydb = mysql.connector.connect(\n",
    "  host=\"localhost\",\n",
    "  user=\"root\",\n",
    "  password=\"\",\n",
    "  #database='joins'\n",
    "  \n",
    ")\n",
    "\n",
    "print(mydb)\n",
    "mycursor = mydb.cursor(buffered=True)"
   ]
  },
  {
   "cell_type": "code",
   "execution_count": 36,
   "id": "829ac9a0",
   "metadata": {},
   "outputs": [],
   "source": [
    "#CREATING WAREHOUSE DATABASE\n",
    "mycursor.execute(\"CREATE DATABASE Warehousedatabase\")"
   ]
  },
  {
   "cell_type": "code",
   "execution_count": 37,
   "id": "6a727dba",
   "metadata": {},
   "outputs": [],
   "source": [
    "#COMMAND TO USE WAREHOUSE DATABASE CREATED EARLIER\n",
    "mycursor.execute(\"USE Warehousedatabase\")"
   ]
  },
  {
   "cell_type": "code",
   "execution_count": 38,
   "id": "000ff705",
   "metadata": {},
   "outputs": [],
   "source": [
    "#CREATING TABLE NAMED Warehouses\n",
    "mycursor.execute(\"\"\"\n",
    "CREATE TABLE Warehouses (\n",
    "   Code INTEGER NOT NULL PRIMARY KEY,\n",
    "   Location VARCHAR(255) NOT NULL,\n",
    "   Capacity INTEGER NOT NULL\n",
    ")\n",
    "\"\"\")\n",
    "\n",
    "#CREATING TABLE NAMED Boxes\n",
    "mycursor.execute(\"\"\"\n",
    "CREATE TABLE Boxes (\n",
    "    Code CHAR(4) NOT NULL PRIMARY KEY,\n",
    "    Contents VARCHAR(255) NOT NULL,\n",
    "    Value REAL NOT NULL,\n",
    "    Warehouse INTEGER NOT NULL,\n",
    "    FOREIGN KEY (Warehouse) REFERENCES Warehouses(Code)\n",
    ") ENGINE=INNODB;\n",
    "\"\"\")\n",
    "\n",
    "#INSERTING DATA INTO TABLE Warehouses\n",
    "mycursor.execute(\"INSERT INTO Warehouses(Code,Location,Capacity) VALUES(1,'Chicago',3)\")\n",
    "mycursor.execute(\"INSERT INTO Warehouses(Code,Location,Capacity) VALUES(2,'Chicago',4)\")\n",
    "mycursor.execute(\"INSERT INTO Warehouses(Code,Location,Capacity) VALUES(3,'New York',7)\")\n",
    "mycursor.execute(\"INSERT INTO Warehouses(Code,Location,Capacity) VALUES(4,'Los Angeles',2)\")\n",
    "mycursor.execute(\"INSERT INTO Warehouses(Code,Location,Capacity) VALUES(5,'San Francisco',8)\")\n",
    "\n",
    "#INSERTING DATA INTO TABLE Boxes\n",
    "mycursor.execute(\"INSERT INTO Boxes(Code,Contents,Value,Warehouse) VALUES('0MN7','Rocks',180,3)\")\n",
    "mycursor.execute(\"INSERT INTO Boxes(Code,Contents,Value,Warehouse) VALUES('4H8P','Rocks',250,1)\")\n",
    "mycursor.execute(\"INSERT INTO Boxes(Code,Contents,Value,Warehouse) VALUES('4RT3','Scissors',190,4)\")\n",
    "mycursor.execute(\"INSERT INTO Boxes(Code,Contents,Value,Warehouse) VALUES('7G3H','Rocks',200,1)\")\n",
    "mycursor.execute(\"INSERT INTO Boxes(Code,Contents,Value,Warehouse) VALUES('8JN6','Papers',75,1)\")\n",
    "mycursor.execute(\"INSERT INTO Boxes(Code,Contents,Value,Warehouse) VALUES('8Y6U','Papers',50,3)\")\n",
    "mycursor.execute(\"INSERT INTO Boxes(Code,Contents,Value,Warehouse) VALUES('9J6F','Papers',175,2)\")\n",
    "mycursor.execute(\"INSERT INTO Boxes(Code,Contents,Value,Warehouse) VALUES('LL08','Rocks',140,4)\")\n",
    "mycursor.execute(\"INSERT INTO Boxes(Code,Contents,Value,Warehouse) VALUES('P0H6','Scissors',125,1)\")\n",
    "mycursor.execute(\"INSERT INTO Boxes(Code,Contents,Value,Warehouse) VALUES('P2T6','Scissors',150,2)\")\n",
    "mycursor.execute(\"INSERT INTO Boxes(Code,Contents,Value,Warehouse) VALUES('TU55','Papers',90,5)\")\n"
   ]
  },
  {
   "cell_type": "code",
   "execution_count": 39,
   "id": "7fafad1b",
   "metadata": {},
   "outputs": [
    {
     "name": "stdout",
     "output_type": "stream",
     "text": [
      "+--------+---------------+------------+\n",
      "|   Code | Location      |   Capacity |\n",
      "|--------+---------------+------------|\n",
      "|      1 | Chicago       |          3 |\n",
      "|      2 | Chicago       |          4 |\n",
      "|      3 | New York      |          7 |\n",
      "|      4 | Los Angeles   |          2 |\n",
      "|      5 | San Francisco |          8 |\n",
      "+--------+---------------+------------+\n"
     ]
    }
   ],
   "source": [
    "#Query to Select all warehouses\n",
    "mycursor.execute (\"SELECT * FROM warehouses\")\n",
    "out = mycursor.fetchall()\n",
    "from tabulate import tabulate \n",
    "print (tabulate(out,headers = [i[0] for i in mycursor.description],tablefmt = 'psql'))"
   ]
  },
  {
   "cell_type": "code",
   "execution_count": 40,
   "id": "45259e97",
   "metadata": {},
   "outputs": [
    {
     "name": "stdout",
     "output_type": "stream",
     "text": [
      "+--------+------------+---------+-------------+\n",
      "| Code   | Contents   |   Value |   Warehouse |\n",
      "|--------+------------+---------+-------------|\n",
      "| 0MN7   | Rocks      |     180 |           3 |\n",
      "| 4H8P   | Rocks      |     250 |           1 |\n",
      "| 4RT3   | Scissors   |     190 |           4 |\n",
      "| 7G3H   | Rocks      |     200 |           1 |\n",
      "| 9J6F   | Papers     |     175 |           2 |\n",
      "+--------+------------+---------+-------------+\n"
     ]
    }
   ],
   "source": [
    "#Query to Select all boxes with a value larger than $150.\n",
    "mycursor.execute (\"SELECT * FROM boxes WHERE Value>150\")\n",
    "out = mycursor.fetchall()\n",
    "from tabulate import tabulate \n",
    "print (tabulate(out,headers = [i[0] for i in mycursor.description],tablefmt = 'psql'))"
   ]
  },
  {
   "cell_type": "code",
   "execution_count": 41,
   "id": "f71979a9",
   "metadata": {},
   "outputs": [
    {
     "name": "stdout",
     "output_type": "stream",
     "text": [
      "+------------+\n",
      "| contents   |\n",
      "|------------|\n",
      "| Rocks      |\n",
      "| Scissors   |\n",
      "| Papers     |\n",
      "+------------+\n"
     ]
    }
   ],
   "source": [
    "#Query to Select all distinct contents in all the boxes\n",
    "mycursor.execute (\"SELECT DISTINCT contents FROM boxes\")\n",
    "out = mycursor.fetchall()\n",
    "from tabulate import tabulate \n",
    "print (tabulate(out,headers = [i[0] for i in mycursor.description],tablefmt = 'psql'))"
   ]
  },
  {
   "cell_type": "code",
   "execution_count": 42,
   "id": "9dbe4cba",
   "metadata": {},
   "outputs": [
    {
     "name": "stdout",
     "output_type": "stream",
     "text": [
      "+---------------+\n",
      "|   Avg (Value) |\n",
      "|---------------|\n",
      "|       147.727 |\n",
      "+---------------+\n"
     ]
    }
   ],
   "source": [
    "#Query to Select the average value of all the boxes.\n",
    "mycursor.execute (\"SELECT Avg (Value) FROM boxes\")\n",
    "out = mycursor.fetchall()\n",
    "from tabulate import tabulate \n",
    "print (tabulate(out,headers = [i[0] for i in mycursor.description],tablefmt = 'psql'))"
   ]
  },
  {
   "cell_type": "code",
   "execution_count": 43,
   "id": "edb7f45e",
   "metadata": {},
   "outputs": [
    {
     "name": "stdout",
     "output_type": "stream",
     "text": [
      "+-------------+---------------+\n",
      "|   Warehouse |   Avg (Value) |\n",
      "|-------------+---------------|\n",
      "|           1 |         162.5 |\n",
      "|           2 |         162.5 |\n",
      "|           3 |         115   |\n",
      "|           4 |         165   |\n",
      "|           5 |          90   |\n",
      "+-------------+---------------+\n"
     ]
    }
   ],
   "source": [
    "#Query to Select the warehouse code and the average value of the boxes in each warehouse.\n",
    "\n",
    "mycursor.execute (\"SELECT Warehouse , Avg (Value) FROM boxes GROUP BY Warehouse\")\n",
    "out = mycursor.fetchall()\n",
    "from tabulate import tabulate \n",
    "print (tabulate(out,headers = [i[0] for i in mycursor.description],tablefmt = 'psql'))"
   ]
  },
  {
   "cell_type": "code",
   "execution_count": 44,
   "id": "60fb9c51",
   "metadata": {},
   "outputs": [
    {
     "name": "stdout",
     "output_type": "stream",
     "text": [
      "+-------------+---------------+\n",
      "|   Warehouse |   Avg (Value) |\n",
      "|-------------+---------------|\n",
      "|           1 |         162.5 |\n",
      "|           2 |         162.5 |\n",
      "|           4 |         165   |\n",
      "+-------------+---------------+\n"
     ]
    }
   ],
   "source": [
    "#Query to Select only those warehouses where the average value of the boxes is greater than 150\n",
    "mycursor.execute (\"SELECT Warehouse , Avg (Value) FROM boxes GROUP BY Warehouse HAVING Avg(Value)>150\")\n",
    "out = mycursor.fetchall()\n",
    "from tabulate import tabulate \n",
    "print (tabulate(out,headers = [i[0] for i in mycursor.description],tablefmt = 'psql'))"
   ]
  },
  {
   "cell_type": "code",
   "execution_count": 45,
   "id": "0892c56d",
   "metadata": {},
   "outputs": [
    {
     "name": "stdout",
     "output_type": "stream",
     "text": [
      "+--------+---------------+\n",
      "| Code   | Location      |\n",
      "|--------+---------------|\n",
      "| 4H8P   | Chicago       |\n",
      "| 4H8P   | Chicago       |\n",
      "| 4H8P   | New York      |\n",
      "| 4H8P   | Los Angeles   |\n",
      "| 4H8P   | San Francisco |\n",
      "| 7G3H   | Chicago       |\n",
      "| 7G3H   | Chicago       |\n",
      "| 7G3H   | New York      |\n",
      "| 7G3H   | Los Angeles   |\n",
      "| 7G3H   | San Francisco |\n",
      "| 8JN6   | Chicago       |\n",
      "| 8JN6   | Chicago       |\n",
      "| 8JN6   | New York      |\n",
      "| 8JN6   | Los Angeles   |\n",
      "| 8JN6   | San Francisco |\n",
      "| P0H6   | Chicago       |\n",
      "| P0H6   | Chicago       |\n",
      "| P0H6   | New York      |\n",
      "| P0H6   | Los Angeles   |\n",
      "| P0H6   | San Francisco |\n",
      "| 9J6F   | Chicago       |\n",
      "| 9J6F   | Chicago       |\n",
      "| 9J6F   | New York      |\n",
      "| 9J6F   | Los Angeles   |\n",
      "| 9J6F   | San Francisco |\n",
      "| P2T6   | Chicago       |\n",
      "| P2T6   | Chicago       |\n",
      "| P2T6   | New York      |\n",
      "| P2T6   | Los Angeles   |\n",
      "| P2T6   | San Francisco |\n",
      "| 0MN7   | Chicago       |\n",
      "| 0MN7   | Chicago       |\n",
      "| 0MN7   | New York      |\n",
      "| 0MN7   | Los Angeles   |\n",
      "| 0MN7   | San Francisco |\n",
      "| 8Y6U   | Chicago       |\n",
      "| 8Y6U   | Chicago       |\n",
      "| 8Y6U   | New York      |\n",
      "| 8Y6U   | Los Angeles   |\n",
      "| 8Y6U   | San Francisco |\n",
      "| 4RT3   | Chicago       |\n",
      "| 4RT3   | Chicago       |\n",
      "| 4RT3   | New York      |\n",
      "| 4RT3   | Los Angeles   |\n",
      "| 4RT3   | San Francisco |\n",
      "| LL08   | Chicago       |\n",
      "| LL08   | Chicago       |\n",
      "| LL08   | New York      |\n",
      "| LL08   | Los Angeles   |\n",
      "| LL08   | San Francisco |\n",
      "| TU55   | Chicago       |\n",
      "| TU55   | Chicago       |\n",
      "| TU55   | New York      |\n",
      "| TU55   | Los Angeles   |\n",
      "| TU55   | San Francisco |\n",
      "+--------+---------------+\n"
     ]
    }
   ],
   "source": [
    "#Query to Select the code of each box, along with the name of the city the box is located in\n",
    "mycursor.execute (\"SELECT Boxes.Code,Location FROM Warehouses JOIN  Boxes ON Warehouses.Code\")\n",
    "out = mycursor.fetchall()\n",
    "from tabulate import tabulate \n",
    "print (tabulate(out,headers = [i[0] for i in mycursor.description],tablefmt = 'psql'))"
   ]
  },
  {
   "cell_type": "code",
   "execution_count": 46,
   "id": "7d9c2e8a",
   "metadata": {},
   "outputs": [
    {
     "name": "stdout",
     "output_type": "stream",
     "text": [
      "+-------------+------------+\n",
      "|   Warehouse |   Count(*) |\n",
      "|-------------+------------|\n",
      "|           1 |          4 |\n",
      "|           2 |          2 |\n",
      "|           3 |          2 |\n",
      "|           4 |          2 |\n",
      "|           5 |          1 |\n",
      "+-------------+------------+\n"
     ]
    }
   ],
   "source": [
    "#Query to Select the warehouse codes, along with the number of boxes in each warehouse.\n",
    "mycursor.execute (\"SELECT Warehouse, Count(*) FROM Boxes GROUP BY Warehouse\")\n",
    "out = mycursor.fetchall()\n",
    "from tabulate import tabulate \n",
    "print (tabulate(out,headers = [i[0] for i in mycursor.description],tablefmt = 'psql'))"
   ]
  },
  {
   "cell_type": "code",
   "execution_count": 47,
   "id": "4d6ea1f2",
   "metadata": {},
   "outputs": [
    {
     "name": "stdout",
     "output_type": "stream",
     "text": [
      "+--------+---------------------+\n",
      "|   Code |   COUNT(Boxes.Code) |\n",
      "|--------+---------------------|\n",
      "|      1 |                   4 |\n",
      "|      2 |                   2 |\n",
      "|      3 |                   2 |\n",
      "|      4 |                   2 |\n",
      "|      5 |                   1 |\n",
      "+--------+---------------------+\n"
     ]
    }
   ],
   "source": [
    "#Query to Optionally, take into account that some warehouses are empty (i.e., the box count \n",
    "#should show up as zero, instead of omitting the warehouse from the result).\n",
    "mycursor.execute (\"SELECT Warehouses.Code, \\\n",
    "COUNT(Boxes.Code) FROM Warehouses \\\n",
    "LEFT JOIN Boxes ON Warehouses.Code = Boxes.Warehouse \\\n",
    "GROUP BY Warehouses.Code\")\n",
    "\n",
    "out = mycursor.fetchall()\n",
    "from tabulate import tabulate \n",
    "print (tabulate(out,headers = [i[0] for i in mycursor.description],tablefmt = 'psql'))"
   ]
  },
  {
   "cell_type": "code",
   "execution_count": 48,
   "id": "9c6c1143",
   "metadata": {},
   "outputs": [
    {
     "name": "stdout",
     "output_type": "stream",
     "text": [
      "+--------+\n",
      "|   Code |\n",
      "|--------|\n",
      "|      1 |\n",
      "+--------+\n"
     ]
    }
   ],
   "source": [
    "#Query to Select the codes of all warehouses that are saturated (a warehouse is saturated if\n",
    "#the number of boxes in it is larger than the warehouse's capacity).\n",
    "mycursor.execute (\"SELECT Code From Warehouses WHERE Capacity < (SELECT COUNT(*) FROM Boxes WHERE Warehouse=Warehouses.Code)\")\n",
    "out = mycursor.fetchall()\n",
    "from tabulate import tabulate \n",
    "print (tabulate(out,headers = [i[0] for i in mycursor.description],tablefmt = 'psql'))"
   ]
  },
  {
   "cell_type": "code",
   "execution_count": 49,
   "id": "604a3b5e",
   "metadata": {},
   "outputs": [
    {
     "name": "stdout",
     "output_type": "stream",
     "text": [
      "+--------+\n",
      "| Code   |\n",
      "|--------|\n",
      "| 4H8P   |\n",
      "| 7G3H   |\n",
      "| 8JN6   |\n",
      "| P0H6   |\n",
      "| 9J6F   |\n",
      "| P2T6   |\n",
      "+--------+\n"
     ]
    }
   ],
   "source": [
    "#Query to Select the codes of all the boxes located in Chicago.\n",
    "mycursor.execute (\"SELECT Code FROM Boxes WHERE Warehouse IN (SELECT Code FROM Warehouses WHERE Location = 'Chicago')\")\n",
    "out = mycursor.fetchall()\n",
    "from tabulate import tabulate \n",
    "print (tabulate(out,headers = [i[0] for i in mycursor.description],tablefmt = 'psql'))"
   ]
  },
  {
   "cell_type": "code",
   "execution_count": 50,
   "id": "f3c615db",
   "metadata": {},
   "outputs": [],
   "source": [
    "#Query to Create a new warehouse in New York with a capacity for 3 boxes.\n",
    "mycursor.execute(\"INSERT INTO Warehouses (Code,Location,Capacity) VALUES (6,'New York',3)\")\n",
    "mydb.commit()"
   ]
  },
  {
   "cell_type": "code",
   "execution_count": 51,
   "id": "2558cc76",
   "metadata": {},
   "outputs": [],
   "source": [
    "#Query to Create a new box, with code \"H5RT\", containing \"Papers\" with a value of $200,\n",
    "#and located in warehouse 2.\n",
    "mycursor.execute(\"INSERT INTO Boxes (Code,Contents,Value,Warehouse) VALUES ('H5RT','Papers',200,2)\")\n",
    "mydb.commit()"
   ]
  },
  {
   "cell_type": "code",
   "execution_count": 52,
   "id": "59342904",
   "metadata": {},
   "outputs": [
    {
     "name": "stdout",
     "output_type": "stream",
     "text": [
      "+--------+------------+---------+-------------+\n",
      "| Code   | Contents   |   Value |   Warehouse |\n",
      "|--------+------------+---------+-------------|\n",
      "| 0MN7   | Rocks      |  153    |           3 |\n",
      "| 4H8P   | Rocks      |  212.5  |           1 |\n",
      "| 4RT3   | Scissors   |  161.5  |           4 |\n",
      "| 7G3H   | Rocks      |  170    |           1 |\n",
      "| 8JN6   | Papers     |   63.75 |           1 |\n",
      "| 8Y6U   | Papers     |   42.5  |           3 |\n",
      "| 9J6F   | Papers     |  148.75 |           2 |\n",
      "| H5RT   | Papers     |  170    |           2 |\n",
      "| LL08   | Rocks      |  119    |           4 |\n",
      "| P0H6   | Scissors   |  106.25 |           1 |\n",
      "| P2T6   | Scissors   |  127.5  |           2 |\n",
      "| TU55   | Papers     |   76.5  |           5 |\n",
      "+--------+------------+---------+-------------+\n"
     ]
    }
   ],
   "source": [
    "#Query to Reduce the value of all boxes by 15%.\n",
    "mycursor.execute(\"\"\"\n",
    "UPDATE Boxes \n",
    "SET Value = Value * 0.85;\n",
    "\"\"\")\n",
    "\n",
    "mycursor.execute(\"SELECT * FROM Boxes \")\n",
    "out = mycursor.fetchall()\n",
    "from tabulate import tabulate \n",
    "print (tabulate(out,headers = [i[0] for i in mycursor.description],tablefmt = 'psql'))"
   ]
  },
  {
   "cell_type": "code",
   "execution_count": 53,
   "id": "f348f6a8",
   "metadata": {},
   "outputs": [
    {
     "name": "stdout",
     "output_type": "stream",
     "text": [
      "+--------+------------+---------+-------------+\n",
      "| Code   | Contents   |   Value |   Warehouse |\n",
      "|--------+------------+---------+-------------|\n",
      "| 0MN7   | Rocks      |  153    |           3 |\n",
      "| 4H8P   | Rocks      |  212.5  |           1 |\n",
      "| 4RT3   | Scissors   |  161.5  |           4 |\n",
      "| 7G3H   | Rocks      |  170    |           1 |\n",
      "| 9J6F   | Papers     |  148.75 |           2 |\n",
      "| H5RT   | Papers     |  170    |           2 |\n",
      "| LL08   | Rocks      |  119    |           4 |\n",
      "| P0H6   | Scissors   |  106.25 |           1 |\n",
      "| P2T6   | Scissors   |  127.5  |           2 |\n",
      "+--------+------------+---------+-------------+\n"
     ]
    }
   ],
   "source": [
    "#Query to Remove all boxes with a value lower than $100.\n",
    "mycursor.execute(\"\"\" DELETE FROM Boxes WHERE Value < 100;\"\"\")\n",
    "\n",
    "mycursor.execute(\"SELECT * FROM Boxes \")\n",
    "out = mycursor.fetchall()\n",
    "from tabulate import tabulate \n",
    "print (tabulate(out,headers = [i[0] for i in mycursor.description],tablefmt = 'psql'))"
   ]
  },
  {
   "cell_type": "code",
   "execution_count": 54,
   "id": "18314417",
   "metadata": {},
   "outputs": [
    {
     "name": "stdout",
     "output_type": "stream",
     "text": [
      "+--------+------------+---------+-------------+\n",
      "| Code   | Contents   |   Value |   Warehouse |\n",
      "|--------+------------+---------+-------------|\n",
      "| 0MN7   | Rocks      |  153    |           3 |\n",
      "| 4H8P   | Rocks      |  212.5  |           1 |\n",
      "| 4RT3   | Scissors   |  161.5  |           4 |\n",
      "| 7G3H   | Rocks      |  170    |           1 |\n",
      "| 9J6F   | Papers     |  148.75 |           2 |\n",
      "| H5RT   | Papers     |  170    |           2 |\n",
      "| LL08   | Rocks      |  119    |           4 |\n",
      "| P0H6   | Scissors   |  106.25 |           1 |\n",
      "| P2T6   | Scissors   |  127.5  |           2 |\n",
      "+--------+------------+---------+-------------+\n"
     ]
    }
   ],
   "source": [
    "#Query to Remove all boxes from saturated warehouses.\n",
    "mycursor.execute(\"DELETE FROM Boxes WHERE Warehouse IN \\\n",
    "                (SELECT Code FROM Warehouses WHERE Capacity < \\\n",
    "                (SELECT COUNT(*) FROM Boxes WHERE Warehouse = Warehouses.Code))\")\n",
    "\n",
    "mycursor.execute(\"SELECT * FROM Boxes \")\n",
    "out = mycursor.fetchall()\n",
    "from tabulate import tabulate \n",
    "print (tabulate(out,headers = [i[0] for i in mycursor.description],tablefmt = 'psql'))"
   ]
  },
  {
   "cell_type": "code",
   "execution_count": 55,
   "id": "454ad822",
   "metadata": {},
   "outputs": [
    {
     "name": "stdout",
     "output_type": "stream",
     "text": [
      "+---------+--------------+----------------+----------------+---------------+-------------+---------------+------------+----------+--------+--------------+-----------+-----------------+\n",
      "| Table   |   Non_unique | Key_name       |   Seq_in_index | Column_name   | Collation   |   Cardinality | Sub_part   | Packed   | Null   | Index_type   | Comment   | Index_comment   |\n",
      "|---------+--------------+----------------+----------------+---------------+-------------+---------------+------------+----------+--------+--------------+-----------+-----------------|\n",
      "| boxes   |            0 | PRIMARY        |              1 | Code          | A           |             9 |            |          |        | BTREE        |           |                 |\n",
      "| boxes   |            1 | indexwarehouse |              1 | Warehouse     | A           |             9 |            |          |        | BTREE        |           |                 |\n",
      "+---------+--------------+----------------+----------------+---------------+-------------+---------------+------------+----------+--------+--------------+-----------+-----------------+\n"
     ]
    }
   ],
   "source": [
    "#Query to Add Index for column \"Warehouse\" in table \"boxes\"\n",
    "mycursor.execute(\"CREATE INDEX indexwarehouse ON Boxes (Warehouse)\")\n",
    "\n",
    "mydb.commit()\n",
    "\n",
    "mycursor.execute(\"SHOW INDEX FROM Boxes\")\n",
    "out = mycursor.fetchall()\n",
    "from tabulate import tabulate \n",
    "print (tabulate(out,headers = [i[0] for i in mycursor.description],tablefmt = 'psql'))"
   ]
  },
  {
   "cell_type": "code",
   "execution_count": 56,
   "id": "33008107",
   "metadata": {},
   "outputs": [
    {
     "name": "stdout",
     "output_type": "stream",
     "text": [
      "+---------+--------------+----------------+----------------+---------------+-------------+---------------+------------+----------+--------+--------------+-----------+-----------------+\n",
      "| Table   |   Non_unique | Key_name       |   Seq_in_index | Column_name   | Collation   |   Cardinality | Sub_part   | Packed   | Null   | Index_type   | Comment   | Index_comment   |\n",
      "|---------+--------------+----------------+----------------+---------------+-------------+---------------+------------+----------+--------+--------------+-----------+-----------------|\n",
      "| boxes   |            0 | PRIMARY        |              1 | Code          | A           |             9 |            |          |        | BTREE        |           |                 |\n",
      "| boxes   |            1 | indexwarehouse |              1 | Warehouse     | A           |             9 |            |          |        | BTREE        |           |                 |\n",
      "+---------+--------------+----------------+----------------+---------------+-------------+---------------+------------+----------+--------+--------------+-----------+-----------------+\n"
     ]
    }
   ],
   "source": [
    "#Query to Print all the existing indexes\n",
    "mycursor.execute(\"SHOW INDEXES FROM Boxes\")\n",
    "out = mycursor.fetchall()\n",
    "from tabulate import tabulate \n",
    "print (tabulate(out,headers = [i[0] for i in mycursor.description],tablefmt = 'psql'))"
   ]
  },
  {
   "cell_type": "code",
   "execution_count": 57,
   "id": "2371f718",
   "metadata": {},
   "outputs": [
    {
     "name": "stdout",
     "output_type": "stream",
     "text": [
      "+--------------+-------------------+-------------------+\n",
      "| TABLE_NAME   | CONSTRAINT_TYPE   | CONSTRAINT_NAME   |\n",
      "|--------------+-------------------+-------------------|\n",
      "| boxes        | PRIMARY KEY       | PRIMARY           |\n",
      "| boxes        | FOREIGN KEY       | boxes_ibfk_1      |\n",
      "+--------------+-------------------+-------------------+\n"
     ]
    }
   ],
   "source": [
    "#To Find the Foreign Key constraint name in order to execute the query to remove the index previously added.\n",
    "mycursor.execute(\"SELECT TABLE_NAME, CONSTRAINT_TYPE, CONSTRAINT_NAME\\\n",
    "                FROM information_schema.table_constraints\\\n",
    "                WHERE table_name='boxes';\")\n",
    "out = mycursor.fetchall()\n",
    "from tabulate import tabulate \n",
    "print (tabulate(out,headers = [i[0] for i in mycursor.description],tablefmt = 'psql'))"
   ]
  },
  {
   "cell_type": "code",
   "execution_count": 58,
   "id": "05a101fb",
   "metadata": {},
   "outputs": [
    {
     "name": "stdout",
     "output_type": "stream",
     "text": [
      "+---------+--------------+------------+----------------+---------------+-------------+---------------+------------+----------+--------+--------------+-----------+-----------------+\n",
      "| Table   |   Non_unique | Key_name   |   Seq_in_index | Column_name   | Collation   |   Cardinality | Sub_part   | Packed   | Null   | Index_type   | Comment   | Index_comment   |\n",
      "|---------+--------------+------------+----------------+---------------+-------------+---------------+------------+----------+--------+--------------+-----------+-----------------|\n",
      "| boxes   |            0 | PRIMARY    |              1 | Code          | A           |             9 |            |          |        | BTREE        |           |                 |\n",
      "+---------+--------------+------------+----------------+---------------+-------------+---------------+------------+----------+--------+--------------+-----------+-----------------+\n"
     ]
    }
   ],
   "source": [
    "#Query to Remove (drop) the index you added just\n",
    "mycursor.execute (\"ALTER TABLE Boxes DROP FOREIGN KEY boxes_ibfk_1\")\n",
    "mycursor.execute(\"DROP INDEX IF EXISTS indexwarehouse ON Boxes\")\n",
    "\n",
    "mydb.commit()\n",
    "\n",
    "mycursor.execute(\"SHOW INDEX FROM Boxes\")\n",
    "out = mycursor.fetchall()\n",
    "from tabulate import tabulate \n",
    "print (tabulate(out,headers = [i[0] for i in mycursor.description],tablefmt = 'psql'))"
   ]
  }
 ],
 "metadata": {
  "kernelspec": {
   "display_name": "Python 3 (ipykernel)",
   "language": "python",
   "name": "python3"
  },
  "language_info": {
   "codemirror_mode": {
    "name": "ipython",
    "version": 3
   },
   "file_extension": ".py",
   "mimetype": "text/x-python",
   "name": "python",
   "nbconvert_exporter": "python",
   "pygments_lexer": "ipython3",
   "version": "3.11.4"
  }
 },
 "nbformat": 4,
 "nbformat_minor": 5
}
